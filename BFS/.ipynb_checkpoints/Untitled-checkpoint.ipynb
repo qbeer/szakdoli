{
 "cells": [
  {
   "cell_type": "code",
   "execution_count": 11,
   "metadata": {},
   "outputs": [
    {
     "name": "stdout",
     "output_type": "stream",
     "text": [
      "Populating the interactive namespace from numpy and matplotlib\n",
      "[[ 0.88277223 -0.32454704  0.33967987]\n",
      " [ 0.38255974  0.91626588 -0.11876399]\n",
      " [-0.27269257  0.2347894   0.9330127 ]]\n",
      "[[-1.07168862e-06  2.00603528e-05  2.19669018e-05]\n",
      " [-1.04584606e-05  2.27736527e-06 -1.58934044e-05]\n",
      " [-1.81687940e-05  1.87971889e-05 -9.99810778e-06]]\n"
     ]
    }
   ],
   "source": [
    "%pylab inline\n",
    "\n",
    "def forgat(phi,theta,alpha):\n",
    "    Rx=matrix([[1,0,0],\n",
    "             [0,cos(alpha),-sin(alpha)],\n",
    "             [0,sin(alpha),cos(alpha)]])\n",
    "    Ry=matrix([[cos(theta),0,-sin(theta)],\n",
    "             [0,1,0],\n",
    "             [sin(theta),0,cos(theta)]])\n",
    "    Rz=matrix([[cos(phi),-sin(phi),0],\n",
    "             [sin(phi),cos(phi),0],\n",
    "             [0,0,1]]) #a 2. feladatbeli mátrixok e feladatbeli paraméterekkel kifejezve\n",
    "    M=Rz*Ry.T*Rx*Ry*Rz.T#-Phi-vel elforgatva a tengely x felé kerül, thetával leforgatva (mivel thetát az xy-síkkal bezárt szögként definiáltuk) épp az x-tengely, ott alphával forgatunk, majd y és z mentén vett forgatásokkal visszatérünk az eredeti koordinátarendszerünkbe\n",
    "    return M\n",
    "\n",
    "F=forgat(pi/3,-pi/4,pi/6)\n",
    "F #a kívánt forgatás\n",
    "\n",
    "print(F)\n",
    "\n",
    "F_oh = [  [0.8827733, -0.3245671,  0.3396579],\n",
    "   [0.3825702,  0.9162636, -0.1187481],\n",
    "  [-0.2726744,  0.2347706,  0.9330227] ]\n",
    "\n",
    "u=matrix([[1],\n",
    "         [1],\n",
    "         [1]])\n",
    "\n",
    "print(F-F_oh)"
   ]
  }
 ],
 "metadata": {
  "kernelspec": {
   "display_name": "Python 3",
   "language": "python",
   "name": "python3"
  },
  "language_info": {
   "codemirror_mode": {
    "name": "ipython",
    "version": 3
   },
   "file_extension": ".py",
   "mimetype": "text/x-python",
   "name": "python",
   "nbconvert_exporter": "python",
   "pygments_lexer": "ipython3",
   "version": "3.6.4"
  }
 },
 "nbformat": 4,
 "nbformat_minor": 2
}
