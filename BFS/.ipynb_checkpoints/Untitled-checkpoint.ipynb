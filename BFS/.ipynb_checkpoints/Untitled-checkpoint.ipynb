{
 "cells": [
  {
   "cell_type": "code",
   "execution_count": 82,
   "metadata": {},
   "outputs": [
    {
     "name": "stdout",
     "output_type": "stream",
     "text": [
      "[15.510944506060609, 15.746075437500004, 17.98892457058824]\n"
     ]
    },
    {
     "data": {
      "text/plain": [
       "<function matplotlib.pyplot.show>"
      ]
     },
     "execution_count": 82,
     "metadata": {},
     "output_type": "execute_result"
    },
    {
     "data": {
      "image/png": "[encoded data removed]",
      "text/plain": [
       "<matplotlib.figure.Figure at 0x7f54b8b9b240>"
      ]
     },
     "metadata": {},
     "output_type": "display_data"
    }
   ],
   "source": [
    "import numpy as np\n",
    "import pandas as pd\n",
    "\n",
    "df = pd.read_table('1.25output.dat', sep=\"\\t\")\n",
    "\n",
    "charge = np.asarray(df[['Z']])\n",
    "angle = np.asarray(df[['polar angle']])\n",
    "\n",
    "chargeAngleBetweenZeroAndThrithyDeg = np.asarray(df[['Z', 'polar angle']])\n",
    "\n",
    "chargeAngleBetweenZeroAndThrithyDeg\n",
    "\n",
    "import matplotlib.pyplot as plt\n",
    "    \n",
    "\n",
    "chargeAngleBetweenZeroAndThrithyDeg = np.asarray(list(filter(lambda x: x[1] < 30. and x[1] > 0., chargeAngleBetweenZeroAndThrithyDeg)))\n",
    "\n",
    "#ezt itt általánosítani kell!\n",
    "charges = [0, 1, 2]\n",
    "\n",
    "from functools import reduce\n",
    "\n",
    "meanAngle = [0]*len(charges)\n",
    "\n",
    "chargeCount = [0]*len(charges)\n",
    "\n",
    "for elem in chargeAngleBetweenZeroAndThrithyDeg:\n",
    "    for i in charges:\n",
    "        if(elem[0] == i):\n",
    "            chargeCount[i] += 1\n",
    "            meanAngle[i] += elem[1]\n",
    "            \n",
    "for i in charges:\n",
    "    meanAngle[i] /= chargeCount[i]\n",
    "\n",
    "print(meanAngle)\n",
    "\n",
    "plt.plot(charges, meanAngle, 'ro')\n",
    "plt.show"
   ]
  }
 ],
 "metadata": {
  "kernelspec": {
   "display_name": "Python 3",
   "language": "python",
   "name": "python3"
  },
  "language_info": {
   "codemirror_mode": {
    "name": "ipython",
    "version": 3
   },
   "file_extension": ".py",
   "mimetype": "text/x-python",
   "name": "python",
   "nbconvert_exporter": "python",
   "pygments_lexer": "ipython3",
   "version": "3.6.4"
  }
 },
 "nbformat": 4,
 "nbformat_minor": 2
}
