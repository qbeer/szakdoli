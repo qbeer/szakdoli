{
 "cells": [
  {
   "cell_type": "code",
   "execution_count": 1,
   "metadata": {},
   "outputs": [
    {
     "data": {
      "text/plain": [
       "<matplotlib.figure.Figure at 0x7fc31812d320>"
      ]
     },
     "metadata": {},
     "output_type": "display_data"
    }
   ],
   "source": [
    "import numpy as np\n",
    "import pandas as pd\n",
    "\n",
    "df = pd.read_table('test.dat', sep=\"\\t\")\n",
    "\n",
    "energy = np.asarray(df[['       E']])\n",
    "atomicmass = np.asarray(df[['A']])\n",
    "charge = np.asarray(df[['Z']])\n",
    "angle = np.asarray(df[['polar angle']])\n",
    "\n",
    "chargeAngleBetweenZeroAndThrithyDeg = np.asarray(df[['Z', 'polar angle']])\n",
    "\n",
    "import matplotlib.pyplot as plt\n",
    "\n",
    "chargeAngleBetweenZeroAndThrithyDeg = np.asarray(list(filter(lambda x: x[1] < 30. and x[1] > 0., chargeAngleBetweenZeroAndThrithyDeg)))\n",
    "\n",
    "angles = {}\n",
    "multiplicity = {}\n",
    "\n",
    "for elem in chargeAngleBetweenZeroAndThrithyDeg:\n",
    "    angles[elem[0]] = []\n",
    "    multiplicity[elem[0]] = 0\n",
    "    \n",
    "for elem in chargeAngleBetweenZeroAndThrithyDeg:\n",
    "    angles[elem[0]].append(elem[1])\n",
    "    multiplicity[elem[0]] += 1\n",
    "\n",
    "meanAngles = {}\n",
    "varAngles = {}\n",
    "\n",
    "for chrge in list(angles.keys()):\n",
    "    meanAngles[chrge] = np.mean(angles[chrge])\n",
    "    varAngles[chrge] = np.var(angles[chrge])\n",
    "\n",
    "plt.errorbar(np.array(list(angles.keys())),\n",
    "            np.array(list(meanAngles.values())),\n",
    "            np.array(list(varAngles.values())),\n",
    "            marker='s', mfc='red',\n",
    "         mec='green', ms=5, mew=2, lw=1, linestyle='None')\n",
    "\n",
    "plt.xlim(0,40)\n",
    "plt.ylim(-50,50)\n",
    "plt.show()"
   ]
  },
  {
   "cell_type": "code",
   "execution_count": 2,
   "metadata": {},
   "outputs": [
    {
     "data": {
      "image/png": "[encoded data removed]",
      "text/plain": [
       "<matplotlib.figure.Figure at 0x7fc3181a88d0>"
      ]
     },
     "metadata": {},
     "output_type": "display_data"
    }
   ],
   "source": [
    "plt.plot(np.array(list(angles.keys())), np.log(np.array(list(multiplicity.values()))), 'ro')\n",
    "plt.xlim(0,40)\n",
    "plt.show()"
   ]
  },
  {
   "cell_type": "code",
   "execution_count": 6,
   "metadata": {},
   "outputs": [
    {
     "data": {
      "image/png": "[encoded data removed]",
      "text/plain": [
       "<matplotlib.figure.Figure at 0x7fc2ecf68320>"
      ]
     },
     "metadata": {},
     "output_type": "display_data"
    }
   ],
   "source": [
    "energies = {}\n",
    "meanEnergies = {}\n",
    "\n",
    "atomicmass = atomicmass.reshape(len(charge),)\n",
    "\n",
    "for i in range(0, len(atomicmass)):\n",
    "    energies[atomicmass[i]] = []\n",
    "    meanEnergies[atomicmass[i]] = 0\n",
    "\n",
    "for i in range(0,len(atomicmass)):\n",
    "    energies[atomicmass[i]].append(energy[i])\n",
    "    \n",
    "meanergies = np.asarray(list(map(lambda x: np.mean(x), energies)))\n",
    "\n",
    "plt.plot(list(energies.keys()), meanergies, 'ro')\n",
    "plt.xlim(0,15)\n",
    "plt.ylim(0, 20)\n",
    "plt.show()"
   ]
  },
  {
   "cell_type": "code",
   "execution_count": null,
   "metadata": {},
   "outputs": [],
   "source": []
  },
  {
   "cell_type": "code",
   "execution_count": null,
   "metadata": {},
   "outputs": [],
   "source": []
  }
 ],
 "metadata": {
  "kernelspec": {
   "display_name": "Python 3",
   "language": "python",
   "name": "python3"
  },
  "language_info": {
   "codemirror_mode": {
    "name": "ipython",
    "version": 3
   },
   "file_extension": ".py",
   "mimetype": "text/x-python",
   "name": "python",
   "nbconvert_exporter": "python",
   "pygments_lexer": "ipython3",
   "version": "3.6.4"
  }
 },
 "nbformat": 4,
 "nbformat_minor": 2
}
